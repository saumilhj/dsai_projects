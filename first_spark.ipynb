{
  "cells": [
    {
      "cell_type": "markdown",
      "metadata": {
        "id": "view-in-github",
        "colab_type": "text"
      },
      "source": [
        "<a href=\"https://colab.research.google.com/github/saumilhj/dsai_projects/blob/main/first_spark.ipynb\" target=\"_parent\"><img src=\"https://colab.research.google.com/assets/colab-badge.svg\" alt=\"Open In Colab\"/></a>"
      ]
    },
    {
      "cell_type": "markdown",
      "source": [
        "**FIRST SPARK NOTEBOOK**"
      ],
      "metadata": {
        "id": "vc5tF20vBkyU"
      }
    },
    {
      "cell_type": "markdown",
      "metadata": {
        "id": "Q2S4Jsemy9rk"
      },
      "source": [
        "Dataset: https://www.kaggle.com/datasets/computingvictor/transactions-fraud-datasets"
      ]
    },
    {
      "cell_type": "code",
      "execution_count": 1,
      "metadata": {
        "id": "mJbKcjlfx9d7"
      },
      "outputs": [],
      "source": [
        "from pyspark.sql import *\n",
        "from pyspark.sql.functions import *\n",
        "\n",
        "# Colors\n",
        "BLUE = \"\\033[34m\"\n",
        "RESET = \"\\033[0m\""
      ]
    },
    {
      "cell_type": "markdown",
      "source": [
        "### Import data"
      ],
      "metadata": {
        "id": "GrVQnxfGGf2G"
      }
    },
    {
      "cell_type": "code",
      "execution_count": 2,
      "metadata": {
        "id": "c8sMW9wGb_ao"
      },
      "outputs": [],
      "source": [
        "spark = SparkSession.builder.master(\"local[*]\").appName(\"Trial\").getOrCreate()"
      ]
    },
    {
      "cell_type": "code",
      "execution_count": 3,
      "metadata": {
        "id": "4HEk_R0Mc3u6"
      },
      "outputs": [],
      "source": [
        "transactions_df = spark.read.format(\"csv\").option(\"header\", \"true\").option(\"inferSchema\", \"true\").load(\"/content/drive/MyDrive/data/transactions_data.csv\")\n",
        "users_df = spark.read.format(\"csv\").option(\"header\", \"true\").option(\"inferSchema\", \"true\").load(\"/content/drive/MyDrive/data/users_data.csv\")\n",
        "cards_df = spark.read.format(\"csv\").option(\"header\", \"true\").option(\"inferSchema\", \"true\").load(\"/content/drive/MyDrive/data/cards_data.csv\")"
      ]
    },
    {
      "cell_type": "code",
      "execution_count": 4,
      "metadata": {
        "colab": {
          "base_uri": "https://localhost:8080/"
        },
        "id": "McoXtmaCrMvq",
        "outputId": "eeb32ce9-2768-4d81-d1c4-3424df2d8f72"
      },
      "outputs": [
        {
          "output_type": "stream",
          "name": "stdout",
          "text": [
            "\u001b[34mTransactions Table:\u001b[0m\n",
            "+-------+-------------------+---------+-------+-------+-----------------+-----------+-------------+--------------+-------+----+------+\n",
            "|     id|               date|client_id|card_id| amount|         use_chip|merchant_id|merchant_city|merchant_state|    zip| mcc|errors|\n",
            "+-------+-------------------+---------+-------+-------+-----------------+-----------+-------------+--------------+-------+----+------+\n",
            "|7475327|2010-01-01 00:01:00|     1556|   2972|$-77.00|Swipe Transaction|      59935|       Beulah|            ND|58523.0|5499|  NULL|\n",
            "|7475328|2010-01-01 00:02:00|      561|   4575| $14.57|Swipe Transaction|      67570|   Bettendorf|            IA|52722.0|5311|  NULL|\n",
            "|7475329|2010-01-01 00:02:00|     1129|    102| $80.00|Swipe Transaction|      27092|        Vista|            CA|92084.0|4829|  NULL|\n",
            "+-------+-------------------+---------+-------+-------+-----------------+-----------+-------------+--------------+-------+----+------+\n",
            "only showing top 3 rows\n",
            "\n",
            "\u001b[34mUsers Table:\u001b[0m\n",
            "+----+-----------+--------------+----------+-----------+------+--------------------+--------+---------+-----------------+-------------+----------+------------+----------------+\n",
            "|  id|current_age|retirement_age|birth_year|birth_month|gender|             address|latitude|longitude|per_capita_income|yearly_income|total_debt|credit_score|num_credit_cards|\n",
            "+----+-----------+--------------+----------+-----------+------+--------------------+--------+---------+-----------------+-------------+----------+------------+----------------+\n",
            "| 825|         53|            66|      1966|         11|Female|       462 Rose Lane|   34.15|  -117.76|           $29278|       $59696|   $127613|         787|               5|\n",
            "|1746|         53|            68|      1966|         12|Female|3606 Federal Boul...|   40.76|   -73.74|           $37891|       $77254|   $191349|         701|               5|\n",
            "|1718|         81|            67|      1938|         11|Female|     766 Third Drive|   34.02|  -117.89|           $22681|       $33483|      $196|         698|               5|\n",
            "+----+-----------+--------------+----------+-----------+------+--------------------+--------+---------+-----------------+-------------+----------+------------+----------------+\n",
            "only showing top 3 rows\n",
            "\n",
            "\u001b[34mCards Table:\u001b[0m\n",
            "+----+---------+----------+---------+----------------+-------+---+--------+----------------+------------+--------------+---------------------+----------------+\n",
            "|  id|client_id|card_brand|card_type|     card_number|expires|cvv|has_chip|num_cards_issued|credit_limit|acct_open_date|year_pin_last_changed|card_on_dark_web|\n",
            "+----+---------+----------+---------+----------------+-------+---+--------+----------------+------------+--------------+---------------------+----------------+\n",
            "|4524|      825|      Visa|    Debit|4344676511950444|12/2022|623|     YES|               2|      $24295|       09/2002|                 2008|              No|\n",
            "|2731|      825|      Visa|    Debit|4956965974959986|12/2020|393|     YES|               2|      $21968|       04/2014|                 2014|              No|\n",
            "|3701|      825|      Visa|    Debit|4582313478255491|02/2024|719|     YES|               2|      $46414|       07/2003|                 2004|              No|\n",
            "+----+---------+----------+---------+----------------+-------+---+--------+----------------+------------+--------------+---------------------+----------------+\n",
            "only showing top 3 rows\n",
            "\n"
          ]
        }
      ],
      "source": [
        "print(BLUE + \"Transactions Table:\" + RESET)\n",
        "transactions_df.show(3)\n",
        "print(BLUE + \"Users Table:\" + RESET)\n",
        "users_df.show(3)\n",
        "print(BLUE + \"Cards Table:\" + RESET)\n",
        "cards_df.show(3)"
      ]
    },
    {
      "cell_type": "markdown",
      "metadata": {
        "id": "LrqZRl5wq9x0"
      },
      "source": [
        "### Clean data"
      ]
    },
    {
      "cell_type": "markdown",
      "source": [
        "Drop unnecessary columns"
      ],
      "metadata": {
        "id": "Iiu0wNy6sOvu"
      }
    },
    {
      "cell_type": "code",
      "source": [
        "transactions_df1 = transactions_df.drop(\"merchant_state\", \"zip\", \"mcc\")\n",
        "users_df1 = users_df.drop(\"birth_month\", \"address\", \"latitude\", \"longitude\")\n",
        "cards_df1 = cards_df.drop(\"card_number\", \"cvv\", \"num_cards_issued\", \"year_pin_last_changed\")"
      ],
      "metadata": {
        "id": "dRRIo71YsOWA"
      },
      "execution_count": 5,
      "outputs": []
    },
    {
      "cell_type": "markdown",
      "metadata": {
        "id": "qwVznTM-gWeg"
      },
      "source": [
        "Number of nulls and empty values in columns"
      ]
    },
    {
      "cell_type": "code",
      "source": [
        "# Utility functions\n",
        "def get_null_counts(df):\n",
        "  df.select([(count(when(isnull(c) | isnan(c) | (col(c) == \"\"), c)) \\\n",
        "              if d not in (\"timestamp\", \"date\") else count(when(isnull(c) | (col(c) == \"\"), c))).alias(c) \\\n",
        "             for c, d in df.dtypes]).show()\n",
        "\n",
        "def check_duplicates(df):\n",
        "  if df.count() > df.dropDuplicates().count():\n",
        "    print(\"Duplicate records exist!\")\n",
        "  else:\n",
        "    print(\"No duplicate records\")"
      ],
      "metadata": {
        "id": "gYIdcMivq4o4"
      },
      "execution_count": 6,
      "outputs": []
    },
    {
      "cell_type": "code",
      "source": [
        "print(BLUE + \"Transactions Table Nulls:\" + RESET)\n",
        "get_null_counts(transactions_df1)\n",
        "print(BLUE + \"Users Table Nulls:\" + RESET)\n",
        "get_null_counts(users_df1)\n",
        "print(BLUE + \"Cards Table Nulls:\" + RESET)\n",
        "get_null_counts(cards_df1)"
      ],
      "metadata": {
        "colab": {
          "base_uri": "https://localhost:8080/"
        },
        "id": "h531YXperTXb",
        "outputId": "61466c41-a27f-4373-f1b0-0a49eb0e200d"
      },
      "execution_count": 7,
      "outputs": [
        {
          "output_type": "stream",
          "name": "stdout",
          "text": [
            "\u001b[34mTransactions Table Nulls:\u001b[0m\n",
            "+---+----+---------+-------+------+--------+-----------+-------------+--------+\n",
            "| id|date|client_id|card_id|amount|use_chip|merchant_id|merchant_city|  errors|\n",
            "+---+----+---------+-------+------+--------+-----------+-------------+--------+\n",
            "|  0|   0|        0|      0|     0|       0|          0|            0|13094522|\n",
            "+---+----+---------+-------+------+--------+-----------+-------------+--------+\n",
            "\n",
            "\u001b[34mUsers Table Nulls:\u001b[0m\n",
            "+---+-----------+--------------+----------+------+-----------------+-------------+----------+------------+----------------+\n",
            "| id|current_age|retirement_age|birth_year|gender|per_capita_income|yearly_income|total_debt|credit_score|num_credit_cards|\n",
            "+---+-----------+--------------+----------+------+-----------------+-------------+----------+------------+----------------+\n",
            "|  0|          0|             0|         0|     0|                0|            0|         0|           0|               0|\n",
            "+---+-----------+--------------+----------+------+-----------------+-------------+----------+------------+----------------+\n",
            "\n",
            "\u001b[34mCards Table Nulls:\u001b[0m\n",
            "+---+---------+----------+---------+-------+--------+------------+--------------+----------------+\n",
            "| id|client_id|card_brand|card_type|expires|has_chip|credit_limit|acct_open_date|card_on_dark_web|\n",
            "+---+---------+----------+---------+-------+--------+------------+--------------+----------------+\n",
            "|  0|        0|         0|        0|      0|       0|           0|             0|               0|\n",
            "+---+---------+----------+---------+-------+--------+------------+--------------+----------------+\n",
            "\n"
          ]
        }
      ]
    },
    {
      "cell_type": "markdown",
      "metadata": {
        "id": "3FlMbddPhYPs"
      },
      "source": [
        "Check for duplicate records"
      ]
    },
    {
      "cell_type": "code",
      "execution_count": 8,
      "metadata": {
        "colab": {
          "base_uri": "https://localhost:8080/"
        },
        "id": "wWf1ne8A6Cfc",
        "outputId": "6151dedd-5716-45b8-e1a0-3165586bdd92"
      },
      "outputs": [
        {
          "output_type": "stream",
          "name": "stdout",
          "text": [
            "No duplicate records\n",
            "No duplicate records\n",
            "No duplicate records\n"
          ]
        }
      ],
      "source": [
        "check_duplicates(transactions_df1)\n",
        "check_duplicates(users_df1)\n",
        "check_duplicates(cards_df1)"
      ]
    },
    {
      "cell_type": "markdown",
      "source": [
        "Clean datatypes and other inconsistencies"
      ],
      "metadata": {
        "id": "K6R0yMCbE4Du"
      }
    },
    {
      "cell_type": "code",
      "execution_count": 9,
      "metadata": {
        "colab": {
          "base_uri": "https://localhost:8080/"
        },
        "id": "I5T8gUBnq2A7",
        "outputId": "a8987878-2112-46ca-9684-33cb070692c6"
      },
      "outputs": [
        {
          "output_type": "stream",
          "name": "stdout",
          "text": [
            "\u001b[34mTransactions Schema:\u001b[0m\n",
            "root\n",
            " |-- id: integer (nullable = true)\n",
            " |-- date: timestamp (nullable = true)\n",
            " |-- client_id: integer (nullable = true)\n",
            " |-- card_id: integer (nullable = true)\n",
            " |-- amount: string (nullable = true)\n",
            " |-- use_chip: string (nullable = true)\n",
            " |-- merchant_id: integer (nullable = true)\n",
            " |-- merchant_city: string (nullable = true)\n",
            " |-- errors: string (nullable = true)\n",
            "\n",
            "\u001b[34mUsers Schema:\u001b[0m\n",
            "root\n",
            " |-- id: integer (nullable = true)\n",
            " |-- current_age: integer (nullable = true)\n",
            " |-- retirement_age: integer (nullable = true)\n",
            " |-- birth_year: integer (nullable = true)\n",
            " |-- gender: string (nullable = true)\n",
            " |-- per_capita_income: string (nullable = true)\n",
            " |-- yearly_income: string (nullable = true)\n",
            " |-- total_debt: string (nullable = true)\n",
            " |-- credit_score: integer (nullable = true)\n",
            " |-- num_credit_cards: integer (nullable = true)\n",
            "\n",
            "\u001b[34mCards Schema:\u001b[0m\n",
            "root\n",
            " |-- id: integer (nullable = true)\n",
            " |-- client_id: integer (nullable = true)\n",
            " |-- card_brand: string (nullable = true)\n",
            " |-- card_type: string (nullable = true)\n",
            " |-- expires: string (nullable = true)\n",
            " |-- has_chip: string (nullable = true)\n",
            " |-- credit_limit: string (nullable = true)\n",
            " |-- acct_open_date: string (nullable = true)\n",
            " |-- card_on_dark_web: string (nullable = true)\n",
            "\n"
          ]
        }
      ],
      "source": [
        "print(BLUE + \"Transactions Schema:\" + RESET)\n",
        "transactions_df1.printSchema()\n",
        "print(BLUE + \"Users Schema:\" + RESET)\n",
        "users_df1.printSchema()\n",
        "print(BLUE + \"Cards Schema:\" + RESET)\n",
        "cards_df1.printSchema()"
      ]
    },
    {
      "cell_type": "code",
      "execution_count": 10,
      "metadata": {
        "id": "YYj4Pj_xuYq2"
      },
      "outputs": [],
      "source": [
        "# Dollar sign from columns removed and column type changed to float\n",
        "\n",
        "transactions_df2 = transactions_df1.withColumn(\"amount\", regexp_replace(transactions_df1[\"amount\"], \"\\$\", \"\"))\\\n",
        "                                    .withColumnRenamed(\"id\", \"transaction_id\")\n",
        "cleaned_transactions_df = transactions_df2.withColumn(\"amount\", transactions_df2[\"amount\"].cast(\"float\"))\n",
        "\n",
        "users_df2 = users_df1.withColumn(\"per_capita_income\", regexp_replace(users_df1[\"per_capita_income\"], \"\\$\", \"\"))\\\n",
        "                      .withColumn(\"yearly_income\", regexp_replace(users_df1[\"yearly_income\"], \"\\$\", \"\"))\\\n",
        "                      .withColumn(\"total_debt\", regexp_replace(users_df1[\"total_debt\"], \"\\$\", \"\"))\\\n",
        "                      .withColumnRenamed(\"id\", \"join_client_id\")\n",
        "cleaned_users_df = users_df2.withColumn(\"per_capita_income\", users_df2[\"per_capita_income\"].cast(\"float\"))\\\n",
        "                             .withColumn(\"yearly_income\", users_df2[\"yearly_income\"].cast(\"float\"))\\\n",
        "                             .withColumn(\"total_debt\", users_df2[\"total_debt\"].cast(\"float\"))\n",
        "\n",
        "cards_df2 = cards_df1.withColumn(\"expires\", to_date(cards_df1[\"expires\"], \"MM/yyyy\"))\\\n",
        "                      .withColumn(\"credit_limit\", regexp_replace(cards_df1[\"credit_limit\"], \"\\$\", \"\"))\\\n",
        "                      .withColumn(\"acct_open_date\", to_date(cards_df1[\"acct_open_date\"], \"MM/yyyy\"))\\\n",
        "                      .withColumnRenamed(\"id\", \"join_card_id\").withColumnRenamed(\"client_id\", \"card_client_id\")\n",
        "cleaned_cards_df = cards_df2.withColumn(\"credit_limit\", cards_df2[\"credit_limit\"].cast(\"float\"))"
      ]
    },
    {
      "cell_type": "markdown",
      "source": [
        "### Analysis"
      ],
      "metadata": {
        "id": "m3Q8GKcpGwmd"
      }
    },
    {
      "cell_type": "markdown",
      "source": [
        "Join the users and cards table with the transactions table"
      ],
      "metadata": {
        "id": "P3-QVgjVKsjE"
      }
    },
    {
      "cell_type": "code",
      "source": [
        "join_table1 = cleaned_transactions_df.join(cleaned_users_df, cleaned_transactions_df[\"client_id\"] == cleaned_users_df[\"join_client_id\"], \"left\").drop(\"join_client_id\")\n",
        "join_table2 = join_table1.join(cleaned_cards_df, join_table1[\"card_id\"] == cleaned_cards_df[\"join_card_id\"], \"left\").drop(\"join_card_id\", \"card_client_id\")\n",
        "join_table2.show(5)"
      ],
      "metadata": {
        "colab": {
          "base_uri": "https://localhost:8080/"
        },
        "id": "3IQxGR26Ktys",
        "outputId": "1b779a72-c1c2-4804-852c-020db0146e70"
      },
      "execution_count": 11,
      "outputs": [
        {
          "output_type": "stream",
          "name": "stdout",
          "text": [
            "+--------------+-------------------+---------+-------+------+-----------------+-----------+-------------+------+-----------+--------------+----------+------+-----------------+-------------+----------+------------+----------------+----------+---------------+----------+--------+------------+--------------+----------------+\n",
            "|transaction_id|               date|client_id|card_id|amount|         use_chip|merchant_id|merchant_city|errors|current_age|retirement_age|birth_year|gender|per_capita_income|yearly_income|total_debt|credit_score|num_credit_cards|card_brand|      card_type|   expires|has_chip|credit_limit|acct_open_date|card_on_dark_web|\n",
            "+--------------+-------------------+---------+-------+------+-----------------+-----------+-------------+------+-----------+--------------+----------+------+-----------------+-------------+----------+------------+----------------+----------+---------------+----------+--------+------------+--------------+----------------+\n",
            "|       7475327|2010-01-01 00:01:00|     1556|   2972| -77.0|Swipe Transaction|      59935|       Beulah|  NULL|         30|            67|      1989|Female|          23679.0|      48277.0|  110153.0|         740|               4|Mastercard|Debit (Prepaid)|2022-07-01|     YES|        55.0|    2008-05-01|              No|\n",
            "|       7475328|2010-01-01 00:02:00|      561|   4575| 14.57|Swipe Transaction|      67570|   Bettendorf|  NULL|         48|            67|      1971|  Male|          18076.0|      36853.0|  112139.0|         834|               5|Mastercard|         Credit|2024-12-01|     YES|      9100.0|    2005-09-01|              No|\n",
            "|       7475329|2010-01-01 00:02:00|     1129|    102|  80.0|Swipe Transaction|      27092|        Vista|  NULL|         49|            65|      1970|  Male|          16894.0|      34449.0|   36540.0|         686|               3|Mastercard|          Debit|2020-05-01|     YES|     14802.0|    2006-01-01|              No|\n",
            "|       7475331|2010-01-01 00:05:00|      430|   2860| 200.0|Swipe Transaction|      27092|  Crown Point|  NULL|         52|            67|      1967|Female|          26168.0|      53350.0|  128676.0|         685|               5|Mastercard|          Debit|2024-10-01|      NO|     37634.0|    2004-05-01|              No|\n",
            "|       7475332|2010-01-01 00:06:00|      848|   3915| 46.41|Swipe Transaction|      13051|      Harwood|  NULL|         51|            69|      1968|  Male|          33529.0|      68362.0|   96182.0|         711|               2|      Visa|          Debit|2020-01-01|     YES|     19113.0|    2009-07-01|              No|\n",
            "+--------------+-------------------+---------+-------+------+-----------------+-----------+-------------+------+-----------+--------------+----------+------+-----------------+-------------+----------+------------+----------------+----------+---------------+----------+--------+------------+--------------+----------------+\n",
            "only showing top 5 rows\n",
            "\n"
          ]
        }
      ]
    },
    {
      "cell_type": "markdown",
      "source": [
        "Q. Number of successful transactions every year"
      ],
      "metadata": {
        "id": "oiXeXj4pC1mH"
      }
    },
    {
      "cell_type": "code",
      "source": [
        "suc_trans_df = join_table2.filter(\"errors is null\").withColumn(\"year\", year(join_table2[\"date\"]))\n",
        "suc_trans_df.groupBy(\"year\").count().orderBy(\"year\").show()"
      ],
      "metadata": {
        "id": "Zhwea_-aGy5l",
        "colab": {
          "base_uri": "https://localhost:8080/"
        },
        "outputId": "0dc77c79-90da-4356-c763-9d39071e12e4"
      },
      "execution_count": 12,
      "outputs": [
        {
          "output_type": "stream",
          "name": "stdout",
          "text": [
            "+----+-------+\n",
            "|year|  count|\n",
            "+----+-------+\n",
            "|2010|1221497|\n",
            "|2011|1270206|\n",
            "|2012|1300851|\n",
            "|2013|1331226|\n",
            "|2014|1343995|\n",
            "|2015|1365712|\n",
            "|2016|1369872|\n",
            "|2017|1377019|\n",
            "|2018|1372832|\n",
            "|2019|1141312|\n",
            "+----+-------+\n",
            "\n"
          ]
        }
      ]
    },
    {
      "cell_type": "markdown",
      "source": [
        "Q. Count of unsuccessful transactions along with reason"
      ],
      "metadata": {
        "id": "V_Xq3cZdKBSP"
      }
    },
    {
      "cell_type": "code",
      "source": [
        "unsuc_trans_df = cleaned_transactions_df.filter(\"errors is not null\")\n",
        "unsuc_trans_df.groupBy(\"errors\").agg(count(\"*\").alias(\"count\")).orderBy(\"count\", ascending=False).show()"
      ],
      "metadata": {
        "colab": {
          "base_uri": "https://localhost:8080/"
        },
        "id": "0Rq9d_4SKLO_",
        "outputId": "bf306d96-961e-4e49-8140-d5cc645fb9a0"
      },
      "execution_count": 13,
      "outputs": [
        {
          "output_type": "stream",
          "name": "stdout",
          "text": [
            "+--------------------+------+\n",
            "|              errors| count|\n",
            "+--------------------+------+\n",
            "|Insufficient Balance|130902|\n",
            "|             Bad PIN| 32119|\n",
            "|    Technical Glitch| 26271|\n",
            "|     Bad Card Number|  7767|\n",
            "|      Bad Expiration|  6161|\n",
            "|             Bad CVV|  6106|\n",
            "|         Bad Zipcode|  1126|\n",
            "|Bad PIN,Insuffici...|   293|\n",
            "|Insufficient Bala...|   243|\n",
            "|Bad Card Number,I...|    71|\n",
            "|Bad PIN,Technical...|    70|\n",
            "|Bad CVV,Insuffici...|    57|\n",
            "|Bad Expiration,In...|    47|\n",
            "|Bad Card Number,B...|    38|\n",
            "|Bad Card Number,B...|    33|\n",
            "|Bad Expiration,Ba...|    32|\n",
            "|Bad Expiration,Te...|    21|\n",
            "|Bad Card Number,T...|    15|\n",
            "|Bad CVV,Technical...|     8|\n",
            "|Bad Zipcode,Insuf...|     7|\n",
            "+--------------------+------+\n",
            "only showing top 20 rows\n",
            "\n"
          ]
        }
      ]
    },
    {
      "cell_type": "markdown",
      "source": [
        "Q. Type of card used for the transactions"
      ],
      "metadata": {
        "id": "I6zxtW-yro4_"
      }
    },
    {
      "cell_type": "code",
      "source": [
        "join_table2.groupBy(\"gender\", \"card_brand\", \"card_type\").agg(count(\"transaction_id\").alias(\"count\")).show()"
      ],
      "metadata": {
        "colab": {
          "base_uri": "https://localhost:8080/"
        },
        "id": "ruQw6IY0rh1p",
        "outputId": "6f567187-b0d2-4f2f-cb77-107edcacfef9"
      },
      "execution_count": 14,
      "outputs": [
        {
          "output_type": "stream",
          "name": "stdout",
          "text": [
            "+------+----------+---------------+-------+\n",
            "|gender|card_brand|      card_type|  count|\n",
            "+------+----------+---------------+-------+\n",
            "|  Male|Mastercard|          Debit|2522592|\n",
            "|Female|      Visa|          Debit|1495094|\n",
            "|Female|      Amex|         Credit| 459159|\n",
            "|  Male|      Amex|         Credit| 395331|\n",
            "|Female|Mastercard|Debit (Prepaid)| 338025|\n",
            "|  Male|      Visa|          Debit|1518942|\n",
            "|Female|      Visa|Debit (Prepaid)| 131562|\n",
            "|Female|      Visa|         Credit| 848870|\n",
            "|  Male|      Visa|Debit (Prepaid)| 151487|\n",
            "|Female|Mastercard|         Credit| 627660|\n",
            "|  Male|      Visa|         Credit| 811608|\n",
            "|  Male|  Discover|         Credit| 165285|\n",
            "|  Male|Mastercard|         Credit| 630098|\n",
            "|  Male|Mastercard|Debit (Prepaid)| 294656|\n",
            "|Female|Mastercard|          Debit|2744368|\n",
            "|Female|  Discover|         Credit| 171178|\n",
            "+------+----------+---------------+-------+\n",
            "\n"
          ]
        }
      ]
    },
    {
      "cell_type": "markdown",
      "source": [
        "Q. Distribution of number of transactions and total amount spent based on gender, age group and financial stability"
      ],
      "metadata": {
        "id": "5zU7gv4eTTTB"
      }
    },
    {
      "cell_type": "code",
      "source": [
        "age_group_df = suc_trans_df.withColumn(\"age_group\", when(suc_trans_df[\"current_age\"] < 18, \"Below 18\")\\\n",
        "                        .when((suc_trans_df[\"current_age\"] >= 18) & (suc_trans_df[\"current_age\"] <= 35), \"18 to 35\")\\\n",
        "                        .otherwise(\"Above 35\"))\\\n",
        "                        .withColumn(\"above_per_capita\", when(suc_trans_df[\"yearly_income\"] >= suc_trans_df[\"per_capita_income\"], \"Yes\")\\\n",
        "                                    .otherwise(\"No\"))\n",
        "age_group_df.groupBy(\"gender\", \"age_group\", \"above_per_capita\").agg(count(\"transaction_id\").alias(\"number_of_trans\"),\\\n",
        "                                                sum(\"amount\").alias(\"amount_spent\")).orderBy(\"amount_spent\", ascending=False).show()"
      ],
      "metadata": {
        "colab": {
          "base_uri": "https://localhost:8080/"
        },
        "id": "iDNvqHX-Qyjd",
        "outputId": "0ddeceeb-637b-4df5-951e-f82f8d67b7e1"
      },
      "execution_count": 15,
      "outputs": [
        {
          "output_type": "stream",
          "name": "stdout",
          "text": [
            "+------+---------+----------------+---------------+--------------------+\n",
            "|gender|age_group|above_per_capita|number_of_trans|        amount_spent|\n",
            "+------+---------+----------------+---------------+--------------------+\n",
            "|Female| Above 35|             Yes|        5758793|2.4654847559925961E8|\n",
            "|  Male| Above 35|             Yes|        5596134|2.3448838117738235E8|\n",
            "|Female| 18 to 35|             Yes|         774050|3.4092037300454125E7|\n",
            "|  Male| 18 to 35|             Yes|         648857| 3.102110402926568E7|\n",
            "|  Male| Above 35|              No|         140568|   6737874.449065417|\n",
            "|Female| Above 35|              No|         176120|   6267352.169977255|\n",
            "+------+---------+----------------+---------------+--------------------+\n",
            "\n"
          ]
        }
      ]
    }
  ],
  "metadata": {
    "colab": {
      "provenance": [],
      "authorship_tag": "ABX9TyM5wk/Thpzd8+Q3u0rywbfC",
      "include_colab_link": true
    },
    "kernelspec": {
      "display_name": "Python 3",
      "name": "python3"
    },
    "language_info": {
      "name": "python"
    }
  },
  "nbformat": 4,
  "nbformat_minor": 0
}