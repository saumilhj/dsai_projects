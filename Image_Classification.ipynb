{
  "nbformat": 4,
  "nbformat_minor": 0,
  "metadata": {
    "colab": {
      "provenance": [],
      "gpuType": "T4",
      "authorship_tag": "ABX9TyOysQbO/ztTNw1J9A/z409y",
      "include_colab_link": true
    },
    "kernelspec": {
      "name": "python3",
      "display_name": "Python 3"
    },
    "language_info": {
      "name": "python"
    }
  },
  "cells": [
    {
      "cell_type": "markdown",
      "metadata": {
        "id": "view-in-github",
        "colab_type": "text"
      },
      "source": [
        "<a href=\"https://colab.research.google.com/github/saumilhj/dsai_projects/blob/main/Image_Classification.ipynb\" target=\"_parent\"><img src=\"https://colab.research.google.com/assets/colab-badge.svg\" alt=\"Open In Colab\"/></a>"
      ]
    },
    {
      "cell_type": "markdown",
      "source": [
        "**IMAGE CLASSIFICATION WITH CUSTOM CONVNET AND WITH INCEPTIONV3**"
      ],
      "metadata": {
        "id": "c9ys8dN4O0DE"
      }
    },
    {
      "cell_type": "markdown",
      "source": [
        "Dataset from Kaggle: https://www.kaggle.com/datasets/alessiocorrado99/animals10"
      ],
      "metadata": {
        "id": "5wnGYXt9BjX4"
      }
    },
    {
      "cell_type": "markdown",
      "source": [
        "### Import libraries"
      ],
      "metadata": {
        "id": "RKHY2BOqPDpU"
      }
    },
    {
      "cell_type": "code",
      "execution_count": 1,
      "metadata": {
        "id": "hSP3SxOfOtjB"
      },
      "outputs": [],
      "source": [
        "import tensorflow as tf\n",
        "import numpy as np\n",
        "import os\n",
        "import random\n",
        "import shutil\n",
        "import matplotlib.pyplot as plt"
      ]
    },
    {
      "cell_type": "markdown",
      "source": [
        "### Data Preprocessing"
      ],
      "metadata": {
        "id": "Q42GzenaPR6D"
      }
    },
    {
      "cell_type": "markdown",
      "source": [
        "Unzip the file to get all images"
      ],
      "metadata": {
        "id": "rOdGlARTArmK"
      }
    },
    {
      "cell_type": "code",
      "source": [
        "!unzip drive/MyDrive/Data/raw-img.zip"
      ],
      "metadata": {
        "id": "BshhCI3R_6nS"
      },
      "execution_count": null,
      "outputs": []
    },
    {
      "cell_type": "markdown",
      "source": [
        "Set seed"
      ],
      "metadata": {
        "id": "lOpwp1rfQb_q"
      }
    },
    {
      "cell_type": "code",
      "source": [
        "SEED = 12\n",
        "random.seed(SEED)\n",
        "np.random.seed(SEED)\n",
        "tf.random.set_seed(SEED)"
      ],
      "metadata": {
        "id": "Z7A7cma1Qbql"
      },
      "execution_count": 3,
      "outputs": []
    },
    {
      "cell_type": "markdown",
      "source": [
        "Set path to root folder"
      ],
      "metadata": {
        "id": "2SM_t_uJAu4l"
      }
    },
    {
      "cell_type": "code",
      "source": [
        "ROOT_PATH = \"./raw-img\""
      ],
      "metadata": {
        "id": "l9wePmAyiyne"
      },
      "execution_count": 4,
      "outputs": []
    },
    {
      "cell_type": "code",
      "source": [
        "# This dictionary gives the translated names of animals in the dataset\n",
        "translated = {\"cane\": \"dog\", \"cavallo\": \"horse\", \"elefante\": \"elephant\",\n",
        "              \"farfalla\": \"butterfly\", \"gallina\": \"chicken\", \"gatto\": \"cat\",\n",
        "              \"mucca\": \"cow\", \"pecora\": \"sheep\", \"scoiattolo\": \"squirrel\",\n",
        "              \"ragno\": \"spider\"}"
      ],
      "metadata": {
        "id": "tENSoclQDKV4"
      },
      "execution_count": 5,
      "outputs": []
    },
    {
      "cell_type": "markdown",
      "source": [
        "Function defined to create the right directories and split data into training and validation"
      ],
      "metadata": {
        "id": "IX5o2juktlwf"
      }
    },
    {
      "cell_type": "code",
      "source": [
        "def data_split(root_path, split_size):\n",
        "  # Get list of all directories in the main folder\n",
        "  folders = os.listdir(root_path)\n",
        "  for folder in folders:\n",
        "    # Create train and validation directory for each category\n",
        "    os.makedirs(f\"./train/{translated[folder]}\")\n",
        "    os.makedirs(f\"./validation/{translated[folder]}\")\n",
        "    # Save the newly created directory path in variables\n",
        "    training_dir = f\"./train/{translated[folder]}\"\n",
        "    validation_dir = f\"./validation/{translated[folder]}\"\n",
        "    # Split images into training and validation\n",
        "    images = os.listdir(os.path.join(root_path, folder))\n",
        "    train_images = random.sample(images, int(split_size*len(images)))\n",
        "    validation_images = list(set(images) - set(train_images))\n",
        "    # Copy images from the root folder to the new training and validation folder\n",
        "    for img in train_images:\n",
        "      shutil.copyfile(os.path.join(os.path.join(root_path, folder), img), os.path.join(training_dir, img))\n",
        "    for img in validation_images:\n",
        "      shutil.copyfile(os.path.join(os.path.join(root_path, folder), img), os.path.join(validation_dir, img))"
      ],
      "metadata": {
        "id": "cVVn6aAOjtKm"
      },
      "execution_count": 6,
      "outputs": []
    },
    {
      "cell_type": "code",
      "source": [
        "data_split(root_path=ROOT_PATH, split_size=0.9)"
      ],
      "metadata": {
        "id": "MQ8RVQMBJQrG"
      },
      "execution_count": 7,
      "outputs": []
    },
    {
      "cell_type": "markdown",
      "source": [
        "Count number of images in training and validation directories"
      ],
      "metadata": {
        "id": "EcqL9r_UBpix"
      }
    },
    {
      "cell_type": "code",
      "source": [
        "animals_train = os.listdir(\"./train\")\n",
        "print(\"Training Images ...\")\n",
        "for animal in animals_train:\n",
        "  print(f\"{animal} images: {len(os.listdir(os.path.join('./train', animal)))}\")\n",
        "animals_validation = os.listdir(\"./validation\")\n",
        "print(\"\\nValidation Images ...\")\n",
        "for animal in animals_validation:\n",
        "  print(f\"{animal} images: {len(os.listdir(os.path.join('./validation', animal)))}\")"
      ],
      "metadata": {
        "colab": {
          "base_uri": "https://localhost:8080/"
        },
        "id": "v7zeUt0KBo6z",
        "outputId": "75a73645-0253-4fbd-e8bf-27b929fbed5d"
      },
      "execution_count": 8,
      "outputs": [
        {
          "output_type": "stream",
          "name": "stdout",
          "text": [
            "Training Images ...\n",
            "spider images: 4338\n",
            "sheep images: 1638\n",
            "dog images: 4376\n",
            "elephant images: 1301\n",
            "cow images: 1679\n",
            "cat images: 1501\n",
            "butterfly images: 1900\n",
            "horse images: 2360\n",
            "chicken images: 2788\n",
            "squirrel images: 1675\n",
            "\n",
            "Validation Images ...\n",
            "spider images: 483\n",
            "sheep images: 182\n",
            "dog images: 487\n",
            "elephant images: 145\n",
            "cow images: 187\n",
            "cat images: 167\n",
            "butterfly images: 212\n",
            "horse images: 263\n",
            "chicken images: 310\n",
            "squirrel images: 187\n"
          ]
        }
      ]
    },
    {
      "cell_type": "markdown",
      "source": [
        "Image generators for training and validation directories"
      ],
      "metadata": {
        "id": "VFrmQnVVs_8a"
      }
    },
    {
      "cell_type": "code",
      "source": [
        "TRAINING_DIR = \"./train\"\n",
        "VALIDATION_DIR = \"./validation\"\n",
        "training_datagen = tf.keras.preprocessing.image.ImageDataGenerator(\n",
        "    rescale=1./255,\n",
        "    rotation_range=30,\n",
        "    shear_range=0.2,\n",
        "    zoom_range=0.2,\n",
        "    horizontal_flip=True,\n",
        "    fill_mode='nearest'\n",
        ")\n",
        "train_generator = training_datagen.flow_from_directory(\n",
        "    TRAINING_DIR,\n",
        "    target_size=(150, 150),\n",
        "    batch_size=128,\n",
        "    class_mode='categorical'\n",
        ")\n",
        "validation_datagen = tf.keras.preprocessing.image.ImageDataGenerator(\n",
        "    rescale=1./255\n",
        ")\n",
        "validation_generator = validation_datagen.flow_from_directory(\n",
        "    VALIDATION_DIR,\n",
        "    target_size=(150, 150),\n",
        "    batch_size=128,\n",
        "    class_mode='categorical'\n",
        ")"
      ],
      "metadata": {
        "id": "r34SCkcjPsF7",
        "colab": {
          "base_uri": "https://localhost:8080/"
        },
        "outputId": "8df70cd4-012e-4df1-b6c9-3970fae84569"
      },
      "execution_count": 9,
      "outputs": [
        {
          "output_type": "stream",
          "name": "stdout",
          "text": [
            "Found 23556 images belonging to 10 classes.\n",
            "Found 2623 images belonging to 10 classes.\n"
          ]
        }
      ]
    },
    {
      "cell_type": "markdown",
      "source": [
        "### Model"
      ],
      "metadata": {
        "id": "ORFgmxZISuuN"
      }
    },
    {
      "cell_type": "markdown",
      "source": [
        "Custom callback that will stop training if accuracy reaches over 85%"
      ],
      "metadata": {
        "id": "ILwd6f2ZNuwO"
      }
    },
    {
      "cell_type": "code",
      "source": [
        "class CustomCallback(tf.keras.callbacks.Callback):\n",
        "  def on_epoch_end(self, epoch, logs={}):\n",
        "    if logs.get('accuracy') is not None and logs.get('accuracy')>0.85:\n",
        "      print(\"\\nAccuracy above 85% reached. Training Stopped.\")\n",
        "      self.model.stop_training=True"
      ],
      "metadata": {
        "id": "HQXeNWyLNt1M"
      },
      "execution_count": 16,
      "outputs": []
    },
    {
      "cell_type": "markdown",
      "source": [
        "Define custom model"
      ],
      "metadata": {
        "id": "8nBXHo1xVJL3"
      }
    },
    {
      "cell_type": "code",
      "source": [
        "def custom_model():\n",
        "  model = tf.keras.Sequential([\n",
        "      tf.keras.layers.Conv2D(64, (3,3), activation='relu', input_shape=(150,150,3)),\n",
        "      tf.keras.layers.MaxPooling2D(pool_size=(2,2)),\n",
        "      tf.keras.layers.Conv2D(64, (3,3), activation='relu'),\n",
        "      tf.keras.layers.MaxPooling2D(pool_size=(2,2)),\n",
        "      tf.keras.layers.Flatten(),\n",
        "      tf.keras.layers.Dense(128, activation='relu'),\n",
        "      tf.keras.layers.Dense(10, activation='softmax')\n",
        "  ])\n",
        "  return model"
      ],
      "metadata": {
        "id": "sdCo_zUpS0YU"
      },
      "execution_count": 17,
      "outputs": []
    },
    {
      "cell_type": "code",
      "source": [
        "custom_model = custom_model()\n",
        "acc_callback = CustomCallback()\n",
        "custom_model.compile(loss=tf.keras.losses.CategoricalCrossentropy(), optimizer=tf.keras.optimizers.Adam(), metrics=['accuracy'])\n",
        "custom_history = custom_model.fit(train_generator, validation_data=validation_generator, epochs=20, verbose=1, callbacks=[acc_callback])"
      ],
      "metadata": {
        "id": "KU17rDfDUfcJ",
        "colab": {
          "base_uri": "https://localhost:8080/"
        },
        "outputId": "dee1ad2e-51ee-4715-f012-26f67c9586fe"
      },
      "execution_count": 18,
      "outputs": [
        {
          "output_type": "stream",
          "name": "stdout",
          "text": [
            "Epoch 1/20\n",
            "185/185 [==============================] - 200s 1s/step - loss: 1.9515 - accuracy: 0.3162 - val_loss: 1.7133 - val_accuracy: 0.4106\n",
            "Epoch 2/20\n",
            "185/185 [==============================] - 197s 1s/step - loss: 1.5751 - accuracy: 0.4588 - val_loss: 1.8738 - val_accuracy: 0.3797\n",
            "Epoch 3/20\n",
            "185/185 [==============================] - 198s 1s/step - loss: 1.4469 - accuracy: 0.5065 - val_loss: 1.3912 - val_accuracy: 0.5322\n",
            "Epoch 4/20\n",
            "185/185 [==============================] - 195s 1s/step - loss: 1.3564 - accuracy: 0.5386 - val_loss: 1.4890 - val_accuracy: 0.5151\n",
            "Epoch 5/20\n",
            "185/185 [==============================] - 196s 1s/step - loss: 1.3007 - accuracy: 0.5584 - val_loss: 1.2822 - val_accuracy: 0.5631\n",
            "Epoch 6/20\n",
            "185/185 [==============================] - 193s 1s/step - loss: 1.2367 - accuracy: 0.5805 - val_loss: 1.3528 - val_accuracy: 0.5383\n",
            "Epoch 7/20\n",
            "185/185 [==============================] - 194s 1s/step - loss: 1.2040 - accuracy: 0.5947 - val_loss: 1.3967 - val_accuracy: 0.5204\n",
            "Epoch 8/20\n",
            "185/185 [==============================] - 200s 1s/step - loss: 1.1981 - accuracy: 0.5946 - val_loss: 1.3250 - val_accuracy: 0.5627\n",
            "Epoch 9/20\n",
            "185/185 [==============================] - 196s 1s/step - loss: 1.1413 - accuracy: 0.6139 - val_loss: 1.3435 - val_accuracy: 0.5665\n",
            "Epoch 10/20\n",
            "185/185 [==============================] - 194s 1s/step - loss: 1.1288 - accuracy: 0.6202 - val_loss: 1.3587 - val_accuracy: 0.5524\n",
            "Epoch 11/20\n",
            "185/185 [==============================] - 195s 1s/step - loss: 1.1026 - accuracy: 0.6273 - val_loss: 1.4113 - val_accuracy: 0.5406\n",
            "Epoch 12/20\n",
            "185/185 [==============================] - 196s 1s/step - loss: 1.0797 - accuracy: 0.6357 - val_loss: 1.1904 - val_accuracy: 0.6104\n",
            "Epoch 13/20\n",
            "185/185 [==============================] - 196s 1s/step - loss: 1.0710 - accuracy: 0.6385 - val_loss: 1.2921 - val_accuracy: 0.5742\n",
            "Epoch 14/20\n",
            "185/185 [==============================] - 197s 1s/step - loss: 1.0494 - accuracy: 0.6441 - val_loss: 1.2470 - val_accuracy: 0.5780\n",
            "Epoch 15/20\n",
            "185/185 [==============================] - 196s 1s/step - loss: 1.0316 - accuracy: 0.6500 - val_loss: 1.2130 - val_accuracy: 0.6005\n",
            "Epoch 16/20\n",
            "185/185 [==============================] - 192s 1s/step - loss: 1.0140 - accuracy: 0.6587 - val_loss: 1.6333 - val_accuracy: 0.5090\n",
            "Epoch 17/20\n",
            "185/185 [==============================] - 193s 1s/step - loss: 1.0105 - accuracy: 0.6559 - val_loss: 1.2564 - val_accuracy: 0.5890\n",
            "Epoch 18/20\n",
            "185/185 [==============================] - 194s 1s/step - loss: 1.0084 - accuracy: 0.6575 - val_loss: 1.2875 - val_accuracy: 0.5822\n",
            "Epoch 19/20\n",
            "185/185 [==============================] - 195s 1s/step - loss: 0.9783 - accuracy: 0.6700 - val_loss: 1.2851 - val_accuracy: 0.5722\n",
            "Epoch 20/20\n",
            "185/185 [==============================] - 195s 1s/step - loss: 0.9800 - accuracy: 0.6675 - val_loss: 1.3400 - val_accuracy: 0.5818\n"
          ]
        }
      ]
    },
    {
      "cell_type": "markdown",
      "source": [
        "Performance"
      ],
      "metadata": {
        "id": "tIGSYTpEVFwX"
      }
    },
    {
      "cell_type": "code",
      "source": [
        "# Get values of metrics\n",
        "accuracy = custom_history.history['accuracy']\n",
        "val_accuracy = custom_history.history['val_accuracy']\n",
        "loss = custom_history.history['loss']\n",
        "val_loss = custom_history.history['val_loss']\n",
        "\n",
        "epochs = range(len(accuracy))\n",
        "\n",
        "# Plot accuracy\n",
        "plt.figure(figsize=(16,6))\n",
        "plt.subplot(1,2,1)\n",
        "plt.plot(epochs, accuracy, color=\"#233D4D\", label=\"Accuracy\")\n",
        "plt.plot(epochs, val_accuracy, color=\"#FE7F2D\", label=\"Validation Accuracy\")\n",
        "plt.title(\"Accuracy Plots\")\n",
        "plt.legend()\n",
        "\n",
        "# Plot loss\n",
        "plt.subplot(1,2,2)\n",
        "plt.plot(epochs, loss, color=\"#540D6E\", label=\"Loss\")\n",
        "plt.plot(epochs, val_loss, color=\"#EE4266\", label=\"Validation Loss\")\n",
        "plt.title(\"Loss Plots\")\n",
        "plt.legend()\n",
        "plt.show()"
      ],
      "metadata": {
        "id": "lkabtfDQVH8m",
        "colab": {
          "base_uri": "https://localhost:8080/",
          "height": 545
        },
        "outputId": "9e26374e-6eeb-42ec-c410-b7d1c6345090"
      },
      "execution_count": 26,
      "outputs": [
        {
          "output_type": "display_data",
          "data": {
            "text/plain": [
              "<Figure size 1600x600 with 2 Axes>"
            ],
            "image/png": "[encoded data removed]"
          },
          "metadata": {}
        }
      ]
    },
    {
      "cell_type": "markdown",
      "source": [
        "After running for all 20 epochs, the training accuracy reaches about 65% and validation accuracy reaches about 60%"
      ],
      "metadata": {
        "id": "Nec1SZZkufYI"
      }
    },
    {
      "cell_type": "markdown",
      "source": [
        "Initialize InceptionV3"
      ],
      "metadata": {
        "id": "TSqeX6lsfwv7"
      }
    },
    {
      "cell_type": "code",
      "source": [
        "pretrained = tf.keras.applications.inception_v3.InceptionV3(\n",
        "    include_top=False,\n",
        "    input_shape=(150,150,3),\n",
        "    weights='imagenet'\n",
        ")\n",
        "# No training for the layers\n",
        "for layer in pretrained.layers:\n",
        "  layer.trainable=False\n",
        "# All layers of model\n",
        "pretrained.summary()"
      ],
      "metadata": {
        "id": "LBq8_l4ff0Rn"
      },
      "execution_count": null,
      "outputs": []
    },
    {
      "cell_type": "markdown",
      "source": [
        "For this example, instead of taking the whole model, I am taking layers only upto mixed7"
      ],
      "metadata": {
        "id": "6upitB31oFnh"
      }
    },
    {
      "cell_type": "code",
      "source": [
        "def transfer_model():\n",
        "  last_layer=pretrained.get_layer('mixed7')\n",
        "  last_output = last_layer.output\n",
        "  # Custom layers joined to pretrained model\n",
        "  x = tf.keras.layers.Flatten()(last_output)\n",
        "  x = tf.keras.layers.Dense(128, activation='relu')(x)\n",
        "  x = tf.keras.layers.Dense(10, activation='softmax')(x)\n",
        "\n",
        "  model = tf.keras.Model(inputs=pretrained.inputs, outputs=x)\n",
        "  return model"
      ],
      "metadata": {
        "id": "FGNsRsmuhOVk"
      },
      "execution_count": 30,
      "outputs": []
    },
    {
      "cell_type": "code",
      "source": [
        "transfer_model = transfer_model()\n",
        "acc_callback = CustomCallback()\n",
        "transfer_model.compile(loss=tf.keras.losses.CategoricalCrossentropy(), optimizer=tf.keras.optimizers.Adam(), metrics=['accuracy'])\n",
        "transfer_history = transfer_model.fit(train_generator, validation_data=validation_generator, epochs=20, verbose=1, callbacks=[acc_callback])"
      ],
      "metadata": {
        "id": "2e8uk2fzpK-U",
        "colab": {
          "base_uri": "https://localhost:8080/"
        },
        "outputId": "363c0e31-26ff-41fa-85ee-8a2bb5404326"
      },
      "execution_count": 31,
      "outputs": [
        {
          "output_type": "stream",
          "name": "stdout",
          "text": [
            "Epoch 1/20\n",
            "185/185 [==============================] - 217s 1s/step - loss: 0.5159 - accuracy: 0.8375 - val_loss: 0.2589 - val_accuracy: 0.9157\n",
            "Epoch 2/20\n",
            "185/185 [==============================] - ETA: 0s - loss: 0.2986 - accuracy: 0.9021\n",
            "Accuracy above 85% reached. Training Stopped.\n",
            "185/185 [==============================] - 194s 1s/step - loss: 0.2986 - accuracy: 0.9021 - val_loss: 0.2431 - val_accuracy: 0.9215\n"
          ]
        }
      ]
    },
    {
      "cell_type": "markdown",
      "source": [
        "Within 2 epochs itself, the training accuracy reaches 90% and the validation accuracy reaches 92%"
      ],
      "metadata": {
        "id": "EnyLVv-kwrZ9"
      }
    }
  ]
}