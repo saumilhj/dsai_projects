{
  "nbformat": 4,
  "nbformat_minor": 0,
  "metadata": {
    "colab": {
      "provenance": [],
      "authorship_tag": "ABX9TyP66F70DIu8KaFD7on5w5Oa",
      "include_colab_link": true
    },
    "kernelspec": {
      "name": "python3",
      "display_name": "Python 3"
    },
    "language_info": {
      "name": "python"
    }
  },
  "cells": [
    {
      "cell_type": "markdown",
      "metadata": {
        "id": "view-in-github",
        "colab_type": "text"
      },
      "source": [
        "<a href=\"https://colab.research.google.com/github/saumilhj/dsai_projects/blob/main/Dinosaur_Name_Generator.ipynb\" target=\"_parent\"><img src=\"https://colab.research.google.com/assets/colab-badge.svg\" alt=\"Open In Colab\"/></a>"
      ]
    },
    {
      "cell_type": "markdown",
      "source": [
        "###**DINOSAUR NAME GENERATOR**"
      ],
      "metadata": {
        "id": "bkBE4K5gk6M7"
      }
    },
    {
      "cell_type": "markdown",
      "source": [
        "### Import libraries"
      ],
      "metadata": {
        "id": "KwqTO_JglF5K"
      }
    },
    {
      "cell_type": "code",
      "execution_count": 1,
      "metadata": {
        "id": "p960JsYaks9y"
      },
      "outputs": [],
      "source": [
        "import tensorflow as tf\n",
        "import numpy as np\n",
        "import matplotlib.pyplot as plt"
      ]
    },
    {
      "cell_type": "markdown",
      "source": [
        "### Import data"
      ],
      "metadata": {
        "id": "nRU6cHmos6Xm"
      }
    },
    {
      "cell_type": "code",
      "source": [
        "with open('dinos.txt') as file:\n",
        "  data = file.read().lower()"
      ],
      "metadata": {
        "id": "hIK0cAAClSSN"
      },
      "execution_count": 2,
      "outputs": []
    },
    {
      "cell_type": "markdown",
      "source": [
        "### Data Preprocessing"
      ],
      "metadata": {
        "id": "1XkSVwpwQrfx"
      }
    },
    {
      "cell_type": "markdown",
      "source": [
        "Two dictionaries are made, one to map character to a number and another to map number to a character"
      ],
      "metadata": {
        "id": "2HXoqrxDS7II"
      }
    },
    {
      "cell_type": "code",
      "source": [
        "# Sorted list that takes all unique characters from the text\n",
        "chars = sorted(list(set(data)), reverse=True)\n",
        "# Dictionaries\n",
        "chars_to_id = {c:i for i, c in enumerate(chars)}\n",
        "id_to_chars = {i:c for i, c in enumerate(chars)}"
      ],
      "metadata": {
        "id": "mOZf9hAPlrFP"
      },
      "execution_count": 3,
      "outputs": []
    },
    {
      "cell_type": "markdown",
      "source": [
        "Convert all words in the input data to integer sequences"
      ],
      "metadata": {
        "id": "xeXT4z8eVNK6"
      }
    },
    {
      "cell_type": "code",
      "source": [
        "def convert_names_to_sequences(input_data):\n",
        "  name_sequences = []\n",
        "  word_seq = []\n",
        "  for char in list(input_data):\n",
        "    if char=='\\n':\n",
        "      word_seq.append(chars_to_id[char])\n",
        "      name_sequences.append(word_seq)\n",
        "      word_seq = []\n",
        "    else:\n",
        "      word_seq.append(chars_to_id[char])\n",
        "  return name_sequences"
      ],
      "metadata": {
        "id": "ZJCnRbZbr9UE"
      },
      "execution_count": 4,
      "outputs": []
    },
    {
      "cell_type": "code",
      "source": [
        "name_sequences = convert_names_to_sequences(data)"
      ],
      "metadata": {
        "id": "2OkA5iSrVflp"
      },
      "execution_count": 5,
      "outputs": []
    },
    {
      "cell_type": "code",
      "source": [
        "print(f\"Number of dinosaur names: {len(name_sequences)}\")"
      ],
      "metadata": {
        "colab": {
          "base_uri": "https://localhost:8080/"
        },
        "id": "tmgMZV7aMiUo",
        "outputId": "8e59579d-a942-41bc-c80e-25e36f7d66c6"
      },
      "execution_count": 63,
      "outputs": [
        {
          "output_type": "stream",
          "name": "stdout",
          "text": [
            "Number of dinosaur names: 1535\n"
          ]
        }
      ]
    },
    {
      "cell_type": "markdown",
      "source": [
        "Convert the input sequences to training data with appropriate padding. I have used N-gram approach to prepare the data."
      ],
      "metadata": {
        "id": "7d2VYt56V5aS"
      }
    },
    {
      "cell_type": "code",
      "source": [
        "def prepare_training_data(sequences):\n",
        "  training_sequences = []\n",
        "  for name_seq in sequences:\n",
        "    for i in range(len(name_seq)-1):\n",
        "      seq = name_seq[:i+2]\n",
        "      training_sequences.append(seq)\n",
        "  padded_sequences = tf.keras.utils.pad_sequences(training_sequences, padding='pre')\n",
        "  return padded_sequences"
      ],
      "metadata": {
        "id": "NmLrNaUov8R8"
      },
      "execution_count": 6,
      "outputs": []
    },
    {
      "cell_type": "code",
      "source": [
        "training_data = prepare_training_data(name_sequences)"
      ],
      "metadata": {
        "id": "elFEPw1NXjgq"
      },
      "execution_count": 7,
      "outputs": []
    },
    {
      "cell_type": "code",
      "source": [
        "# Length of the longest sequences\n",
        "max_seq_len = max([len(seq) for seq in training_data])"
      ],
      "metadata": {
        "id": "Ovd1WnyahOL1"
      },
      "execution_count": 8,
      "outputs": []
    },
    {
      "cell_type": "markdown",
      "source": [
        "Split training data into inputs and labels"
      ],
      "metadata": {
        "id": "UWnNa5hiX3Hz"
      }
    },
    {
      "cell_type": "code",
      "source": [
        "training_input = training_data[:, :-1]\n",
        "# One-hot encoding labels\n",
        "training_labels = tf.keras.utils.to_categorical(training_data[:, -1], num_classes=len(chars))"
      ],
      "metadata": {
        "id": "oyp3tvaVh6lM"
      },
      "execution_count": 9,
      "outputs": []
    },
    {
      "cell_type": "markdown",
      "source": [
        "### Model"
      ],
      "metadata": {
        "id": "h7i-mD3XWNXV"
      }
    },
    {
      "cell_type": "code",
      "source": [
        "def create_model():\n",
        "  tf.random.set_seed(42)\n",
        "  model = tf.keras.Sequential([\n",
        "      tf.keras.layers.Embedding(len(chars), 64, input_length=max_seq_len-1),\n",
        "      tf.keras.layers.Bidirectional(tf.keras.layers.LSTM(64, return_sequences=True)),\n",
        "      tf.keras.layers.Bidirectional(tf.keras.layers.LSTM(64, return_sequences=True)),\n",
        "      tf.keras.layers.Bidirectional(tf.keras.layers.LSTM(64)),\n",
        "      tf.keras.layers.Dense(128, activation='relu'),\n",
        "      tf.keras.layers.Dense(len(chars), activation='softmax')\n",
        "  ])\n",
        "  return model"
      ],
      "metadata": {
        "id": "x_ZAmBMJ5JT7"
      },
      "execution_count": 12,
      "outputs": []
    },
    {
      "cell_type": "code",
      "source": [
        "model = create_model()\n",
        "model.compile(loss=tf.keras.losses.CategoricalCrossentropy(), optimizer=tf.keras.optimizers.Adam(), metrics=['accuracy'])\n",
        "history = model.fit(training_input, training_labels, verbose=1, epochs=50)"
      ],
      "metadata": {
        "id": "2xWEGNQAWx5F"
      },
      "execution_count": null,
      "outputs": []
    },
    {
      "cell_type": "markdown",
      "source": [
        "Accuracy achieved after training for 50 epochs is about 80%"
      ],
      "metadata": {
        "id": "wWA8I2461S87"
      }
    },
    {
      "cell_type": "markdown",
      "source": [
        "Plot loss and accuracy"
      ],
      "metadata": {
        "id": "lOpkroieXk2E"
      }
    },
    {
      "cell_type": "code",
      "source": [
        "acc = history.history['accuracy']\n",
        "loss = history.history['loss']\n",
        "epochs = range(len(acc))\n",
        "\n",
        "plt.figure(figsize=(16,6))\n",
        "plt.subplot(1, 2, 1)\n",
        "plt.plot(epochs, acc, 'b', label='Training accuracy')\n",
        "plt.title('Training accuracy')\n",
        "\n",
        "plt.subplot(1, 2, 2)\n",
        "plt.plot(epochs, loss, 'b', label='Training Loss')\n",
        "plt.title('Training loss')\n",
        "\n",
        "plt.show()"
      ],
      "metadata": {
        "id": "E8aPwGdmrXMd",
        "colab": {
          "base_uri": "https://localhost:8080/",
          "height": 545
        },
        "outputId": "e4d6dc44-68bc-4e99-ab6d-7b6620481142"
      },
      "execution_count": 14,
      "outputs": [
        {
          "output_type": "display_data",
          "data": {
            "text/plain": [
              "<Figure size 1600x600 with 2 Axes>"
            ],
            "image/png": "[encoded data removed]"
          },
          "metadata": {}
        }
      ]
    },
    {
      "cell_type": "markdown",
      "source": [
        "Generate random names"
      ],
      "metadata": {
        "id": "XEuI9gKxZX-C"
      }
    },
    {
      "cell_type": "code",
      "source": [
        "gen_names = 10\n",
        "char_l = []\n",
        "new_word = True\n",
        "total_words = 0\n",
        "print(f\"Generating {gen_names} names ...\")\n",
        "while total_words < gen_names:\n",
        "  if new_word:\n",
        "    char = id_to_chars[np.random.choice(list(id_to_chars.keys())[:26])]\n",
        "    newline_count = 0\n",
        "    new_word = False\n",
        "  else:\n",
        "    for c in char:\n",
        "      char_l.append(chars_to_id[c])\n",
        "    padded_char_l = tf.keras.utils.pad_sequences([char_l], maxlen=max_seq_len-1, padding='pre')\n",
        "    predicted = model.predict(padded_char_l, verbose=0)[0]\n",
        "    predicted = np.argmax(predicted)\n",
        "    output = id_to_chars[predicted]\n",
        "    char = char + output\n",
        "    if output == '\\n':\n",
        "      new_word = True\n",
        "      total_words +=1\n",
        "      char = char[:-1]\n",
        "      print(char.capitalize())"
      ],
      "metadata": {
        "colab": {
          "base_uri": "https://localhost:8080/"
        },
        "id": "kVwOHk2LKObu",
        "outputId": "db0904fa-aad9-42b4-a3f9-5cb44cfd130c"
      },
      "execution_count": 61,
      "outputs": [
        {
          "output_type": "stream",
          "name": "stdout",
          "text": [
            "Generating 10 names ...\n",
            "Ishchus\n",
            "Mysaurus\n",
            "X\n",
            "Nus\n",
            "Ks\n",
            "Oleus\n",
            "Qs\n",
            "Bus\n",
            "Ps\n",
            "Ylolus\n"
          ]
        }
      ]
    },
    {
      "cell_type": "markdown",
      "source": [
        "The names generated above show that the network has learned that dino names end with an S or X but it can lead to some bad outputs. To correct this, I have modified the function to ignore such outputs"
      ],
      "metadata": {
        "id": "CUAEKoCjKg-j"
      }
    },
    {
      "cell_type": "code",
      "source": [
        "gen_names = 10\n",
        "char_l = []\n",
        "new_word = True\n",
        "total_words = 0\n",
        "print(f\"Generating {gen_names} names ...\")\n",
        "while total_words < gen_names:\n",
        "  if new_word:\n",
        "    char = id_to_chars[np.random.choice(list(id_to_chars.keys())[:26])]\n",
        "    newline_count = 0\n",
        "    new_word = False\n",
        "  else:\n",
        "    for c in char:\n",
        "      char_l.append(chars_to_id[c])\n",
        "    padded_char_l = tf.keras.utils.pad_sequences([char_l], maxlen=max_seq_len-1, padding='pre')\n",
        "    predicted = model.predict(padded_char_l, verbose=0)[0]\n",
        "    predicted = np.argmax(predicted)\n",
        "    output = id_to_chars[predicted]\n",
        "    char = char + output\n",
        "    if output == '\\n':\n",
        "      newline_count += 1\n",
        "      if len(char) > 6:\n",
        "        new_word = True\n",
        "        total_words +=1\n",
        "        char = char[:-1]\n",
        "        print(char.capitalize())\n",
        "      elif newline_count == 4:\n",
        "        new_word = True\n",
        "      else:\n",
        "        char = char[:-1]"
      ],
      "metadata": {
        "id": "YDi5469ZstF5",
        "colab": {
          "base_uri": "https://localhost:8080/"
        },
        "outputId": "5d6e57e4-63a8-4e92-b777-fc117af10d45"
      },
      "execution_count": 62,
      "outputs": [
        {
          "output_type": "stream",
          "name": "stdout",
          "text": [
            "Generating 10 names ...\n",
            "Oredon\n",
            "Esaurus\n",
            "Urochenosaurus\n",
            "Trosaurus\n",
            "Zoaeuraptor\n",
            "Josaurus\n",
            "Miodon\n",
            "Rosaurus\n",
            "Nllong\n",
            "Qsiosus\n"
          ]
        }
      ]
    }
  ]
}